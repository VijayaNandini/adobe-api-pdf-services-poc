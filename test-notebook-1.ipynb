{
 "cells": [
  {
   "cell_type": "code",
   "execution_count": 5,
   "metadata": {},
   "outputs": [
    {
     "data": {
      "text/plain": [
       "True"
      ]
     },
     "execution_count": 5,
     "metadata": {},
     "output_type": "execute_result"
    }
   ],
   "source": [
    "from dotenv import load_dotenv\n",
    "import logging\n",
    "import os\n",
    "from datetime import datetime\n",
    "\n",
    "from adobe.pdfservices.operation.auth.service_principal_credentials import ServicePrincipalCredentials\n",
    "from adobe.pdfservices.operation.exception.exceptions import ServiceApiException, ServiceUsageException, SdkException\n",
    "from adobe.pdfservices.operation.io.stream_asset import StreamAsset\n",
    "from adobe.pdfservices.operation.pdf_services import PDFServices\n",
    "from adobe.pdfservices.operation.pdf_services_media_type import PDFServicesMediaType\n",
    "from adobe.pdfservices.operation.pdfjobs.jobs.split_pdf_job import SplitPDFJob\n",
    "from adobe.pdfservices.operation.pdfjobs.params.split_pdf.split_pdf_params import SplitPDFParams\n",
    "from adobe.pdfservices.operation.pdfjobs.result.split_pdf_result import SplitPDFResult\n",
    "\n",
    "# Initialize the logger\n",
    "logging.basicConfig(level=logging.INFO)\n",
    "load_dotenv()"
   ]
  },
  {
   "cell_type": "code",
   "execution_count": 6,
   "metadata": {},
   "outputs": [],
   "source": [
    "file = open('src/resources/splitPDFInput.pdf', 'rb')\n",
    "input_stream = file.read()\n",
    "file.close()\n",
    "\n",
    "# Initial setup, create credentials instance\n",
    "credentials = ServicePrincipalCredentials(\n",
    "    client_id=os.getenv('PDF_SERVICES_CLIENT_ID'),\n",
    "    client_secret=os.getenv('PDF_SERVICES_CLIENT_SECRET')\n",
    ")\n",
    "# Creates a PDF Services instance\n",
    "pdf_services = PDFServices(credentials=credentials)"
   ]
  },
  {
   "cell_type": "code",
   "execution_count": 8,
   "metadata": {},
   "outputs": [
    {
     "name": "stderr",
     "output_type": "stream",
     "text": [
      "INFO:adobe.pdfservices.operation.internal.pdf_services_helper:Started uploading asset\n",
      "INFO:adobe.pdfservices.operation.internal.pdf_services_helper:Finished uploading asset\n",
      "INFO:adobe.pdfservices.operation.internal.pdf_services_helper:Started submitting SPLIT_PDF job\n",
      "INFO:adobe.pdfservices.operation.internal.pdf_services_helper:Started getting job result\n",
      "INFO:adobe.pdfservices.operation.internal.pdf_services_helper:Finished polling for status\n",
      "INFO:adobe.pdfservices.operation.internal.pdf_services_helper:Finished getting job result\n"
     ]
    }
   ],
   "source": [
    "# Creates a PDF Services instance\n",
    "pdf_services = PDFServices(credentials=credentials)\n",
    "\n",
    "# Creates an asset(s) from source file(s) and upload\n",
    "input_asset = pdf_services.upload(input_stream=input_stream,\n",
    "                                    mime_type=PDFServicesMediaType.PDF)\n",
    "\n",
    "# Create parameters for the job\n",
    "split_pdf_params = SplitPDFParams(page_count=1)\n",
    "\n",
    "# Creates a new job instance\n",
    "split_pdf_job = SplitPDFJob(input_asset, split_pdf_params)\n",
    "\n",
    "# Submit the job and gets the job result\n",
    "location = pdf_services.submit(split_pdf_job)\n",
    "pdf_services_response = pdf_services.get_job_result(location, SplitPDFResult)\n",
    "\n",
    "# Get content from the resulting asset(s)\n",
    "result_assets = pdf_services_response.get_result().get_assets()"
   ]
  },
  {
   "cell_type": "code",
   "execution_count": 10,
   "metadata": {},
   "outputs": [
    {
     "name": "stderr",
     "output_type": "stream",
     "text": [
      "INFO:adobe.pdfservices.operation.internal.pdf_services_helper:Started getting content\n",
      "INFO:adobe.pdfservices.operation.internal.pdf_services_helper:Finished getting content\n",
      "INFO:adobe.pdfservices.operation.internal.pdf_services_helper:Started getting content\n",
      "INFO:adobe.pdfservices.operation.internal.pdf_services_helper:Finished getting content\n",
      "INFO:adobe.pdfservices.operation.internal.pdf_services_helper:Started getting content\n",
      "INFO:adobe.pdfservices.operation.internal.pdf_services_helper:Finished getting content\n",
      "INFO:adobe.pdfservices.operation.internal.pdf_services_helper:Started getting content\n",
      "INFO:adobe.pdfservices.operation.internal.pdf_services_helper:Finished getting content\n"
     ]
    }
   ],
   "source": [
    "# Creates an output stream and copy stream asset's content to it\n",
    "now = datetime.now()\n",
    "time_stamp = now.strftime(\"%Y-%m-%dT%H-%M-%S\")\n",
    "os.makedirs(\"output/SplitPDFByNumberOfPages\", exist_ok=True)\n",
    "output_file_path = \"output/SplitPDFByNumberOfPages/split{time_stamp}.pdf\"\n",
    "\n",
    "for i, result_asset in enumerate(result_assets):\n",
    "    stream_asset: StreamAsset = pdf_services.get_content(result_asset)\n",
    "    with open(f\"{output_file_path}_{i}.pdf\", \"wb\") as file:\n",
    "        file.write(stream_asset.get_input_stream())"
   ]
  },
  {
   "cell_type": "code",
   "execution_count": null,
   "metadata": {},
   "outputs": [],
   "source": []
  }
 ],
 "metadata": {
  "kernelspec": {
   "display_name": ".venv",
   "language": "python",
   "name": "python3"
  },
  "language_info": {
   "codemirror_mode": {
    "name": "ipython",
    "version": 3
   },
   "file_extension": ".py",
   "mimetype": "text/x-python",
   "name": "python",
   "nbconvert_exporter": "python",
   "pygments_lexer": "ipython3",
   "version": "3.11.9"
  }
 },
 "nbformat": 4,
 "nbformat_minor": 2
}
