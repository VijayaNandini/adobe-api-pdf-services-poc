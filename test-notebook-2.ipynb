{
 "cells": [
  {
   "cell_type": "code",
   "execution_count": 2,
   "metadata": {},
   "outputs": [
    {
     "data": {
      "text/plain": [
       "True"
      ]
     },
     "execution_count": 2,
     "metadata": {},
     "output_type": "execute_result"
    }
   ],
   "source": [
    "from dotenv import load_dotenv\n",
    "import os\n",
    "from src.split_pdf_by_number_of_pages import split_pdf\n",
    "from src.ocr_pdf import ocr_pdf\n",
    "from src.export_pdf_to_docx import export_pdf_to_docx\n",
    "from src.combine_pdf import combine_pdf\n",
    "load_dotenv()"
   ]
  },
  {
   "cell_type": "code",
   "execution_count": 2,
   "metadata": {},
   "outputs": [
    {
     "name": "stderr",
     "output_type": "stream",
     "text": [
      "INFO:adobe.pdfservices.operation.internal.pdf_services_helper:Started uploading asset\n",
      "INFO:adobe.pdfservices.operation.internal.pdf_services_helper:Finished uploading asset\n",
      "INFO:adobe.pdfservices.operation.internal.pdf_services_helper:Started submitting SPLIT_PDF job\n",
      "INFO:adobe.pdfservices.operation.internal.pdf_services_helper:Started getting job result\n",
      "INFO:adobe.pdfservices.operation.internal.pdf_services_helper:Finished polling for status\n",
      "INFO:adobe.pdfservices.operation.internal.pdf_services_helper:Finished getting job result\n",
      "INFO:adobe.pdfservices.operation.internal.pdf_services_helper:Started getting content\n",
      "INFO:adobe.pdfservices.operation.internal.pdf_services_helper:Finished getting content\n",
      "INFO:adobe.pdfservices.operation.internal.pdf_services_helper:Started getting content\n",
      "INFO:adobe.pdfservices.operation.internal.pdf_services_helper:Finished getting content\n",
      "INFO:adobe.pdfservices.operation.internal.pdf_services_helper:Started getting content\n",
      "INFO:adobe.pdfservices.operation.internal.pdf_services_helper:Finished getting content\n",
      "INFO:adobe.pdfservices.operation.internal.pdf_services_helper:Started getting content\n",
      "INFO:adobe.pdfservices.operation.internal.pdf_services_helper:Finished getting content\n"
     ]
    },
    {
     "data": {
      "text/plain": [
       "4"
      ]
     },
     "execution_count": 2,
     "metadata": {},
     "output_type": "execute_result"
    }
   ],
   "source": [
    "split_pdf(input_pdf_name='src/resources/splitPDFInput.pdf',page_count=1)"
   ]
  },
  {
   "cell_type": "code",
   "execution_count": 5,
   "metadata": {},
   "outputs": [
    {
     "name": "stderr",
     "output_type": "stream",
     "text": [
      "INFO:adobe.pdfservices.operation.internal.pdf_services_helper:Started uploading asset\n",
      "INFO:adobe.pdfservices.operation.internal.pdf_services_helper:Finished uploading asset\n",
      "INFO:adobe.pdfservices.operation.internal.pdf_services_helper:Started submitting OCR_PDF job\n",
      "INFO:adobe.pdfservices.operation.internal.pdf_services_helper:Started getting job result\n",
      "INFO:adobe.pdfservices.operation.internal.pdf_services_helper:Finished polling for status\n",
      "INFO:adobe.pdfservices.operation.internal.pdf_services_helper:Finished getting job result\n",
      "INFO:adobe.pdfservices.operation.internal.pdf_services_helper:Started getting content\n",
      "INFO:adobe.pdfservices.operation.internal.pdf_services_helper:Finished getting content\n"
     ]
    },
    {
     "data": {
      "text/plain": [
       "'output/OcrPDF/ocr-20240814001420.pdf'"
      ]
     },
     "execution_count": 5,
     "metadata": {},
     "output_type": "execute_result"
    }
   ],
   "source": [
    "ocr_pdf(input_pdf_name='src/resources/ocrInput.pdf')"
   ]
  },
  {
   "cell_type": "code",
   "execution_count": 9,
   "metadata": {},
   "outputs": [
    {
     "name": "stderr",
     "output_type": "stream",
     "text": [
      "INFO:adobe.pdfservices.operation.internal.pdf_services_helper:Started uploading asset\n",
      "INFO:adobe.pdfservices.operation.internal.pdf_services_helper:Finished uploading asset\n",
      "INFO:adobe.pdfservices.operation.internal.pdf_services_helper:Started submitting EXPORT_PDF job\n",
      "INFO:adobe.pdfservices.operation.internal.pdf_services_helper:Started getting job result\n",
      "INFO:adobe.pdfservices.operation.internal.pdf_services_helper:Finished polling for status\n",
      "INFO:adobe.pdfservices.operation.internal.pdf_services_helper:Finished getting job result\n",
      "INFO:adobe.pdfservices.operation.internal.pdf_services_helper:Started getting content\n",
      "INFO:adobe.pdfservices.operation.internal.pdf_services_helper:Finished getting content\n"
     ]
    },
    {
     "data": {
      "text/plain": [
       "'output/ExportPDFToDOCX/export-20240814012400.docx'"
      ]
     },
     "execution_count": 9,
     "metadata": {},
     "output_type": "execute_result"
    }
   ],
   "source": [
    "export_pdf_to_docx(input_pdf_name='input/python_dashboard_with_plotly_and_dash.pdf')"
   ]
  },
  {
   "cell_type": "code",
   "execution_count": 11,
   "metadata": {},
   "outputs": [
    {
     "name": "stderr",
     "output_type": "stream",
     "text": [
      "INFO:adobe.pdfservices.operation.internal.pdf_services_helper:Started uploading asset\n",
      "INFO:adobe.pdfservices.operation.internal.pdf_services_helper:Started uploading asset\n",
      "INFO:adobe.pdfservices.operation.internal.pdf_services_helper:Finished uploading asset\n",
      "INFO:adobe.pdfservices.operation.internal.pdf_services_helper:Finished uploading asset\n",
      "INFO:adobe.pdfservices.operation.internal.pdf_services_helper:Started uploading asset\n",
      "INFO:adobe.pdfservices.operation.internal.pdf_services_helper:Started uploading asset\n",
      "INFO:adobe.pdfservices.operation.internal.pdf_services_helper:Started uploading asset\n",
      "INFO:adobe.pdfservices.operation.internal.pdf_services_helper:Finished uploading asset\n",
      "INFO:adobe.pdfservices.operation.internal.pdf_services_helper:Finished uploading asset\n",
      "INFO:adobe.pdfservices.operation.internal.pdf_services_helper:Finished uploading asset\n",
      "INFO:adobe.pdfservices.operation.internal.pdf_services_helper:Started submitting COMBINE_PDF job\n",
      "INFO:adobe.pdfservices.operation.internal.pdf_services_helper:Started getting job result\n",
      "INFO:adobe.pdfservices.operation.internal.pdf_services_helper:Finished polling for status\n",
      "INFO:adobe.pdfservices.operation.internal.pdf_services_helper:Finished getting job result\n",
      "INFO:adobe.pdfservices.operation.internal.pdf_services_helper:Started getting content\n",
      "INFO:adobe.pdfservices.operation.internal.pdf_services_helper:Finished getting content\n"
     ]
    },
    {
     "data": {
      "text/plain": [
       "'output/CombinePDF/export-20240814015909.pdf'"
      ]
     },
     "execution_count": 11,
     "metadata": {},
     "output_type": "execute_result"
    }
   ],
   "source": [
    "combine_pdf('src/resources/combineFilesInput1.pdf','src/resources/combineFilesInput2.pdf')"
   ]
  },
  {
   "cell_type": "code",
   "execution_count": 4,
   "metadata": {},
   "outputs": [
    {
     "name": "stdout",
     "output_type": "stream",
     "text": [
      "Inside ocr_pdf function\n"
     ]
    },
    {
     "name": "stderr",
     "output_type": "stream",
     "text": [
      "INFO:adobe.pdfservices.operation.internal.pdf_services_helper:Started uploading asset\n",
      "INFO:adobe.pdfservices.operation.internal.pdf_services_helper:Finished uploading asset\n",
      "INFO:adobe.pdfservices.operation.internal.pdf_services_helper:Started submitting OCR_PDF job\n",
      "INFO:adobe.pdfservices.operation.internal.pdf_services_helper:Started getting job result\n",
      "INFO:adobe.pdfservices.operation.internal.pdf_services_helper:Finished polling for status\n",
      "INFO:adobe.pdfservices.operation.internal.pdf_services_helper:Finished getting job result\n",
      "INFO:adobe.pdfservices.operation.internal.pdf_services_helper:Started getting content\n",
      "INFO:adobe.pdfservices.operation.internal.pdf_services_helper:Finished getting content\n"
     ]
    },
    {
     "data": {
      "text/plain": [
       "'data/ocr-20240817151003.pdf'"
      ]
     },
     "execution_count": 4,
     "metadata": {},
     "output_type": "execute_result"
    }
   ],
   "source": [
    "ocr_pdf(input_pdf_name='data/python_dashboard_with_plotly_and_dash.pdf')"
   ]
  },
  {
   "cell_type": "code",
   "execution_count": 14,
   "metadata": {},
   "outputs": [],
   "source": [
    "pdf_inputs = os.listdir('input/test')"
   ]
  },
  {
   "cell_type": "code",
   "execution_count": 3,
   "metadata": {},
   "outputs": [],
   "source": [
    "pdf_inputs = ['input/test/'+pdf for pdf in os.listdir('input/test')]"
   ]
  },
  {
   "cell_type": "code",
   "execution_count": 4,
   "metadata": {},
   "outputs": [
    {
     "name": "stderr",
     "output_type": "stream",
     "text": [
      "INFO:adobe.pdfservices.operation.internal.pdf_services_helper:Started uploading asset\n",
      "INFO:adobe.pdfservices.operation.internal.pdf_services_helper:Started uploading asset\n"
     ]
    },
    {
     "name": "stdout",
     "output_type": "stream",
     "text": [
      "Collecting PDF: input/test/export-20240814015909.pdf\n"
     ]
    },
    {
     "name": "stderr",
     "output_type": "stream",
     "text": [
      "INFO:adobe.pdfservices.operation.internal.pdf_services_helper:Finished uploading asset\n",
      "INFO:adobe.pdfservices.operation.internal.pdf_services_helper:Finished uploading asset\n",
      "INFO:adobe.pdfservices.operation.internal.pdf_services_helper:Started uploading asset\n",
      "INFO:adobe.pdfservices.operation.internal.pdf_services_helper:Started uploading asset\n",
      "INFO:adobe.pdfservices.operation.internal.pdf_services_helper:Started uploading asset\n"
     ]
    },
    {
     "name": "stdout",
     "output_type": "stream",
     "text": [
      "Collecting PDF: input/test/ocr-20240814001420.pdf\n"
     ]
    },
    {
     "name": "stderr",
     "output_type": "stream",
     "text": [
      "INFO:adobe.pdfservices.operation.internal.pdf_services_helper:Finished uploading asset\n",
      "INFO:adobe.pdfservices.operation.internal.pdf_services_helper:Finished uploading asset\n",
      "INFO:adobe.pdfservices.operation.internal.pdf_services_helper:Finished uploading asset\n",
      "INFO:adobe.pdfservices.operation.internal.pdf_services_helper:Started uploading asset\n",
      "INFO:adobe.pdfservices.operation.internal.pdf_services_helper:Started uploading asset\n",
      "INFO:adobe.pdfservices.operation.internal.pdf_services_helper:Started uploading asset\n",
      "INFO:adobe.pdfservices.operation.internal.pdf_services_helper:Started uploading asset\n"
     ]
    },
    {
     "name": "stdout",
     "output_type": "stream",
     "text": [
      "Collecting PDF: input/test/split-20240814000325-0.pdf\n"
     ]
    },
    {
     "name": "stderr",
     "output_type": "stream",
     "text": [
      "INFO:adobe.pdfservices.operation.internal.pdf_services_helper:Finished uploading asset\n",
      "INFO:adobe.pdfservices.operation.internal.pdf_services_helper:Finished uploading asset\n",
      "INFO:adobe.pdfservices.operation.internal.pdf_services_helper:Finished uploading asset\n",
      "INFO:adobe.pdfservices.operation.internal.pdf_services_helper:Finished uploading asset\n",
      "INFO:adobe.pdfservices.operation.internal.pdf_services_helper:Started uploading asset\n",
      "INFO:adobe.pdfservices.operation.internal.pdf_services_helper:Started uploading asset\n",
      "INFO:adobe.pdfservices.operation.internal.pdf_services_helper:Started uploading asset\n",
      "INFO:adobe.pdfservices.operation.internal.pdf_services_helper:Started uploading asset\n",
      "INFO:adobe.pdfservices.operation.internal.pdf_services_helper:Started uploading asset\n"
     ]
    },
    {
     "name": "stdout",
     "output_type": "stream",
     "text": [
      "Collecting PDF: input/test/split-20240814000325-1.pdf\n"
     ]
    },
    {
     "name": "stderr",
     "output_type": "stream",
     "text": [
      "INFO:adobe.pdfservices.operation.internal.pdf_services_helper:Finished uploading asset\n",
      "INFO:adobe.pdfservices.operation.internal.pdf_services_helper:Finished uploading asset\n",
      "INFO:adobe.pdfservices.operation.internal.pdf_services_helper:Finished uploading asset\n",
      "INFO:adobe.pdfservices.operation.internal.pdf_services_helper:Finished uploading asset\n",
      "INFO:adobe.pdfservices.operation.internal.pdf_services_helper:Finished uploading asset\n",
      "INFO:adobe.pdfservices.operation.internal.pdf_services_helper:Started uploading asset\n",
      "INFO:adobe.pdfservices.operation.internal.pdf_services_helper:Started uploading asset\n",
      "INFO:adobe.pdfservices.operation.internal.pdf_services_helper:Started uploading asset\n",
      "INFO:adobe.pdfservices.operation.internal.pdf_services_helper:Started uploading asset\n",
      "INFO:adobe.pdfservices.operation.internal.pdf_services_helper:Started uploading asset\n",
      "INFO:adobe.pdfservices.operation.internal.pdf_services_helper:Started uploading asset\n"
     ]
    },
    {
     "name": "stdout",
     "output_type": "stream",
     "text": [
      "Collecting PDF: input/test/split-20240814000325-2.pdf\n"
     ]
    },
    {
     "name": "stderr",
     "output_type": "stream",
     "text": [
      "INFO:adobe.pdfservices.operation.internal.pdf_services_helper:Finished uploading asset\n",
      "INFO:adobe.pdfservices.operation.internal.pdf_services_helper:Finished uploading asset\n",
      "INFO:adobe.pdfservices.operation.internal.pdf_services_helper:Finished uploading asset\n",
      "INFO:adobe.pdfservices.operation.internal.pdf_services_helper:Finished uploading asset\n",
      "INFO:adobe.pdfservices.operation.internal.pdf_services_helper:Finished uploading asset\n",
      "INFO:adobe.pdfservices.operation.internal.pdf_services_helper:Finished uploading asset\n",
      "INFO:adobe.pdfservices.operation.internal.pdf_services_helper:Started uploading asset\n",
      "INFO:adobe.pdfservices.operation.internal.pdf_services_helper:Started uploading asset\n",
      "INFO:adobe.pdfservices.operation.internal.pdf_services_helper:Started uploading asset\n",
      "INFO:adobe.pdfservices.operation.internal.pdf_services_helper:Started uploading asset\n",
      "INFO:adobe.pdfservices.operation.internal.pdf_services_helper:Started uploading asset\n",
      "INFO:adobe.pdfservices.operation.internal.pdf_services_helper:Started uploading asset\n",
      "INFO:adobe.pdfservices.operation.internal.pdf_services_helper:Started uploading asset\n"
     ]
    },
    {
     "name": "stdout",
     "output_type": "stream",
     "text": [
      "Collecting PDF: input/test/split-20240814000325-3.pdf\n"
     ]
    },
    {
     "name": "stderr",
     "output_type": "stream",
     "text": [
      "INFO:adobe.pdfservices.operation.internal.pdf_services_helper:Finished uploading asset\n",
      "INFO:adobe.pdfservices.operation.internal.pdf_services_helper:Finished uploading asset\n",
      "INFO:adobe.pdfservices.operation.internal.pdf_services_helper:Finished uploading asset\n",
      "INFO:adobe.pdfservices.operation.internal.pdf_services_helper:Finished uploading asset\n",
      "INFO:adobe.pdfservices.operation.internal.pdf_services_helper:Finished uploading asset\n",
      "INFO:adobe.pdfservices.operation.internal.pdf_services_helper:Finished uploading asset\n",
      "INFO:adobe.pdfservices.operation.internal.pdf_services_helper:Finished uploading asset\n",
      "INFO:adobe.pdfservices.operation.internal.pdf_services_helper:Started uploading asset\n",
      "INFO:adobe.pdfservices.operation.internal.pdf_services_helper:Started uploading asset\n",
      "INFO:adobe.pdfservices.operation.internal.pdf_services_helper:Started uploading asset\n",
      "INFO:adobe.pdfservices.operation.internal.pdf_services_helper:Started uploading asset\n",
      "INFO:adobe.pdfservices.operation.internal.pdf_services_helper:Started uploading asset\n",
      "INFO:adobe.pdfservices.operation.internal.pdf_services_helper:Started uploading asset\n",
      "INFO:adobe.pdfservices.operation.internal.pdf_services_helper:Started uploading asset\n",
      "INFO:adobe.pdfservices.operation.internal.pdf_services_helper:Started uploading asset\n"
     ]
    },
    {
     "name": "stdout",
     "output_type": "stream",
     "text": [
      "Collecting PDF: input/test/split-20240814000413-0.pdf\n"
     ]
    },
    {
     "name": "stderr",
     "output_type": "stream",
     "text": [
      "INFO:adobe.pdfservices.operation.internal.pdf_services_helper:Finished uploading asset\n",
      "INFO:adobe.pdfservices.operation.internal.pdf_services_helper:Finished uploading asset\n",
      "INFO:adobe.pdfservices.operation.internal.pdf_services_helper:Finished uploading asset\n",
      "INFO:adobe.pdfservices.operation.internal.pdf_services_helper:Finished uploading asset\n",
      "INFO:adobe.pdfservices.operation.internal.pdf_services_helper:Finished uploading asset\n",
      "INFO:adobe.pdfservices.operation.internal.pdf_services_helper:Finished uploading asset\n",
      "INFO:adobe.pdfservices.operation.internal.pdf_services_helper:Finished uploading asset\n",
      "INFO:adobe.pdfservices.operation.internal.pdf_services_helper:Finished uploading asset\n",
      "INFO:adobe.pdfservices.operation.internal.pdf_services_helper:Started uploading asset\n",
      "INFO:adobe.pdfservices.operation.internal.pdf_services_helper:Started uploading asset\n",
      "INFO:adobe.pdfservices.operation.internal.pdf_services_helper:Started uploading asset\n",
      "INFO:adobe.pdfservices.operation.internal.pdf_services_helper:Started uploading asset\n",
      "INFO:adobe.pdfservices.operation.internal.pdf_services_helper:Started uploading asset\n",
      "INFO:adobe.pdfservices.operation.internal.pdf_services_helper:Started uploading asset\n",
      "INFO:adobe.pdfservices.operation.internal.pdf_services_helper:Started uploading asset\n",
      "INFO:adobe.pdfservices.operation.internal.pdf_services_helper:Started uploading asset\n",
      "INFO:adobe.pdfservices.operation.internal.pdf_services_helper:Started uploading asset\n"
     ]
    },
    {
     "name": "stdout",
     "output_type": "stream",
     "text": [
      "Collecting PDF: input/test/split-20240814000413-1.pdf\n"
     ]
    },
    {
     "name": "stderr",
     "output_type": "stream",
     "text": [
      "INFO:adobe.pdfservices.operation.internal.pdf_services_helper:Finished uploading asset\n",
      "INFO:adobe.pdfservices.operation.internal.pdf_services_helper:Finished uploading asset\n",
      "INFO:adobe.pdfservices.operation.internal.pdf_services_helper:Finished uploading asset\n",
      "INFO:adobe.pdfservices.operation.internal.pdf_services_helper:Finished uploading asset\n",
      "INFO:adobe.pdfservices.operation.internal.pdf_services_helper:Finished uploading asset\n",
      "INFO:adobe.pdfservices.operation.internal.pdf_services_helper:Finished uploading asset\n",
      "INFO:adobe.pdfservices.operation.internal.pdf_services_helper:Finished uploading asset\n",
      "INFO:adobe.pdfservices.operation.internal.pdf_services_helper:Finished uploading asset\n",
      "INFO:adobe.pdfservices.operation.internal.pdf_services_helper:Finished uploading asset\n",
      "INFO:adobe.pdfservices.operation.internal.pdf_services_helper:Started uploading asset\n",
      "INFO:adobe.pdfservices.operation.internal.pdf_services_helper:Started uploading asset\n",
      "INFO:adobe.pdfservices.operation.internal.pdf_services_helper:Started uploading asset\n",
      "INFO:adobe.pdfservices.operation.internal.pdf_services_helper:Started uploading asset\n",
      "INFO:adobe.pdfservices.operation.internal.pdf_services_helper:Started uploading asset\n",
      "INFO:adobe.pdfservices.operation.internal.pdf_services_helper:Started uploading asset\n",
      "INFO:adobe.pdfservices.operation.internal.pdf_services_helper:Started uploading asset\n",
      "INFO:adobe.pdfservices.operation.internal.pdf_services_helper:Started uploading asset\n",
      "INFO:adobe.pdfservices.operation.internal.pdf_services_helper:Started uploading asset\n",
      "INFO:adobe.pdfservices.operation.internal.pdf_services_helper:Started uploading asset\n"
     ]
    },
    {
     "name": "stdout",
     "output_type": "stream",
     "text": [
      "Collecting PDF: input/test/split-20240814000413-2.pdf\n"
     ]
    },
    {
     "name": "stderr",
     "output_type": "stream",
     "text": [
      "INFO:adobe.pdfservices.operation.internal.pdf_services_helper:Finished uploading asset\n",
      "INFO:adobe.pdfservices.operation.internal.pdf_services_helper:Finished uploading asset\n",
      "INFO:adobe.pdfservices.operation.internal.pdf_services_helper:Finished uploading asset\n",
      "INFO:adobe.pdfservices.operation.internal.pdf_services_helper:Finished uploading asset\n",
      "INFO:adobe.pdfservices.operation.internal.pdf_services_helper:Finished uploading asset\n",
      "INFO:adobe.pdfservices.operation.internal.pdf_services_helper:Finished uploading asset\n",
      "INFO:adobe.pdfservices.operation.internal.pdf_services_helper:Finished uploading asset\n",
      "INFO:adobe.pdfservices.operation.internal.pdf_services_helper:Finished uploading asset\n",
      "INFO:adobe.pdfservices.operation.internal.pdf_services_helper:Finished uploading asset\n",
      "INFO:adobe.pdfservices.operation.internal.pdf_services_helper:Finished uploading asset\n",
      "INFO:adobe.pdfservices.operation.internal.pdf_services_helper:Started uploading asset\n",
      "INFO:adobe.pdfservices.operation.internal.pdf_services_helper:Started uploading asset\n",
      "INFO:adobe.pdfservices.operation.internal.pdf_services_helper:Started uploading asset\n",
      "INFO:adobe.pdfservices.operation.internal.pdf_services_helper:Started uploading asset\n",
      "INFO:adobe.pdfservices.operation.internal.pdf_services_helper:Started uploading asset\n",
      "INFO:adobe.pdfservices.operation.internal.pdf_services_helper:Started uploading asset\n",
      "INFO:adobe.pdfservices.operation.internal.pdf_services_helper:Started uploading asset\n",
      "INFO:adobe.pdfservices.operation.internal.pdf_services_helper:Started uploading asset\n",
      "INFO:adobe.pdfservices.operation.internal.pdf_services_helper:Started uploading asset\n",
      "INFO:adobe.pdfservices.operation.internal.pdf_services_helper:Started uploading asset\n",
      "INFO:adobe.pdfservices.operation.internal.pdf_services_helper:Started uploading asset\n"
     ]
    },
    {
     "name": "stdout",
     "output_type": "stream",
     "text": [
      "Collecting PDF: input/test/split-20240814000413-3.pdf\n"
     ]
    },
    {
     "name": "stderr",
     "output_type": "stream",
     "text": [
      "INFO:adobe.pdfservices.operation.internal.pdf_services_helper:Finished uploading asset\n",
      "INFO:adobe.pdfservices.operation.internal.pdf_services_helper:Finished uploading asset\n",
      "INFO:adobe.pdfservices.operation.internal.pdf_services_helper:Finished uploading asset\n",
      "INFO:adobe.pdfservices.operation.internal.pdf_services_helper:Finished uploading asset\n",
      "INFO:adobe.pdfservices.operation.internal.pdf_services_helper:Finished uploading asset\n",
      "INFO:adobe.pdfservices.operation.internal.pdf_services_helper:Finished uploading asset\n",
      "INFO:adobe.pdfservices.operation.internal.pdf_services_helper:Finished uploading asset\n",
      "INFO:adobe.pdfservices.operation.internal.pdf_services_helper:Finished uploading asset\n",
      "INFO:adobe.pdfservices.operation.internal.pdf_services_helper:Finished uploading asset\n",
      "INFO:adobe.pdfservices.operation.internal.pdf_services_helper:Finished uploading asset\n",
      "INFO:adobe.pdfservices.operation.internal.pdf_services_helper:Finished uploading asset\n",
      "INFO:adobe.pdfservices.operation.internal.pdf_services_helper:Started submitting COMBINE_PDF job\n",
      "INFO:adobe.pdfservices.operation.internal.pdf_services_helper:Started getting job result\n",
      "INFO:adobe.pdfservices.operation.internal.pdf_services_helper:Finished polling for status\n",
      "INFO:adobe.pdfservices.operation.internal.pdf_services_helper:Finished getting job result\n",
      "INFO:adobe.pdfservices.operation.internal.pdf_services_helper:Started getting content\n",
      "INFO:adobe.pdfservices.operation.internal.pdf_services_helper:Finished getting content\n"
     ]
    },
    {
     "data": {
      "text/plain": [
       "'output/CombinePDF/export-20240814032039.pdf'"
      ]
     },
     "execution_count": 4,
     "metadata": {},
     "output_type": "execute_result"
    }
   ],
   "source": [
    "combine_pdf(*pdf_inputs)"
   ]
  },
  {
   "cell_type": "code",
   "execution_count": 9,
   "metadata": {},
   "outputs": [],
   "source": [
    "pdf_inputs = ['data/'+pdf for pdf in os.listdir('data')]\n",
    "pdf_inputs = pdf_inputs[0:14]"
   ]
  },
  {
   "cell_type": "code",
   "execution_count": 10,
   "metadata": {},
   "outputs": [
    {
     "data": {
      "text/plain": [
       "['data/ocr-20240814040854.pdf',\n",
       " 'data/ocr-20240814040957.pdf',\n",
       " 'data/ocr-20240814041100.pdf',\n",
       " 'data/ocr-20240814041201.pdf',\n",
       " 'data/ocr-20240814041307.pdf',\n",
       " 'data/ocr-20240814041409.pdf',\n",
       " 'data/ocr-20240814041510.pdf',\n",
       " 'data/ocr-20240814041606.pdf',\n",
       " 'data/ocr-20240814041713.pdf',\n",
       " 'data/ocr-20240814041817.pdf',\n",
       " 'data/ocr-20240814041919.pdf',\n",
       " 'data/ocr-20240814042018.pdf',\n",
       " 'data/ocr-20240814042116.pdf',\n",
       " 'data/ocr-20240814042142.pdf']"
      ]
     },
     "execution_count": 10,
     "metadata": {},
     "output_type": "execute_result"
    }
   ],
   "source": [
    "pdf_inputs"
   ]
  },
  {
   "cell_type": "code",
   "execution_count": 11,
   "metadata": {},
   "outputs": [
    {
     "name": "stderr",
     "output_type": "stream",
     "text": [
      "INFO:adobe.pdfservices.operation.internal.pdf_services_helper:Started uploading asset\n",
      "INFO:adobe.pdfservices.operation.internal.pdf_services_helper:Started uploading asset\n"
     ]
    },
    {
     "name": "stdout",
     "output_type": "stream",
     "text": [
      "Collecting PDF: data/ocr-20240814040854.pdf\n"
     ]
    },
    {
     "name": "stderr",
     "output_type": "stream",
     "text": [
      "INFO:adobe.pdfservices.operation.internal.pdf_services_helper:Finished uploading asset\n",
      "INFO:adobe.pdfservices.operation.internal.pdf_services_helper:Finished uploading asset\n",
      "INFO:adobe.pdfservices.operation.internal.pdf_services_helper:Started uploading asset\n",
      "INFO:adobe.pdfservices.operation.internal.pdf_services_helper:Started uploading asset\n",
      "INFO:adobe.pdfservices.operation.internal.pdf_services_helper:Started uploading asset\n"
     ]
    },
    {
     "name": "stdout",
     "output_type": "stream",
     "text": [
      "Collecting PDF: data/ocr-20240814040957.pdf\n"
     ]
    },
    {
     "name": "stderr",
     "output_type": "stream",
     "text": [
      "INFO:adobe.pdfservices.operation.internal.pdf_services_helper:Finished uploading asset\n",
      "INFO:adobe.pdfservices.operation.internal.pdf_services_helper:Finished uploading asset\n",
      "INFO:adobe.pdfservices.operation.internal.pdf_services_helper:Finished uploading asset\n",
      "INFO:adobe.pdfservices.operation.internal.pdf_services_helper:Started uploading asset\n",
      "INFO:adobe.pdfservices.operation.internal.pdf_services_helper:Started uploading asset\n",
      "INFO:adobe.pdfservices.operation.internal.pdf_services_helper:Started uploading asset\n",
      "INFO:adobe.pdfservices.operation.internal.pdf_services_helper:Started uploading asset\n"
     ]
    },
    {
     "name": "stdout",
     "output_type": "stream",
     "text": [
      "Collecting PDF: data/ocr-20240814041100.pdf\n"
     ]
    },
    {
     "name": "stderr",
     "output_type": "stream",
     "text": [
      "INFO:adobe.pdfservices.operation.internal.pdf_services_helper:Finished uploading asset\n",
      "INFO:adobe.pdfservices.operation.internal.pdf_services_helper:Finished uploading asset\n",
      "INFO:adobe.pdfservices.operation.internal.pdf_services_helper:Finished uploading asset\n",
      "INFO:adobe.pdfservices.operation.internal.pdf_services_helper:Finished uploading asset\n",
      "INFO:adobe.pdfservices.operation.internal.pdf_services_helper:Started uploading asset\n",
      "INFO:adobe.pdfservices.operation.internal.pdf_services_helper:Started uploading asset\n",
      "INFO:adobe.pdfservices.operation.internal.pdf_services_helper:Started uploading asset\n",
      "INFO:adobe.pdfservices.operation.internal.pdf_services_helper:Started uploading asset\n",
      "INFO:adobe.pdfservices.operation.internal.pdf_services_helper:Started uploading asset\n"
     ]
    },
    {
     "name": "stdout",
     "output_type": "stream",
     "text": [
      "Collecting PDF: data/ocr-20240814041201.pdf\n"
     ]
    },
    {
     "name": "stderr",
     "output_type": "stream",
     "text": [
      "INFO:adobe.pdfservices.operation.internal.pdf_services_helper:Finished uploading asset\n",
      "INFO:adobe.pdfservices.operation.internal.pdf_services_helper:Finished uploading asset\n",
      "INFO:adobe.pdfservices.operation.internal.pdf_services_helper:Finished uploading asset\n",
      "INFO:adobe.pdfservices.operation.internal.pdf_services_helper:Finished uploading asset\n",
      "INFO:adobe.pdfservices.operation.internal.pdf_services_helper:Finished uploading asset\n",
      "INFO:adobe.pdfservices.operation.internal.pdf_services_helper:Started uploading asset\n",
      "INFO:adobe.pdfservices.operation.internal.pdf_services_helper:Started uploading asset\n",
      "INFO:adobe.pdfservices.operation.internal.pdf_services_helper:Started uploading asset\n",
      "INFO:adobe.pdfservices.operation.internal.pdf_services_helper:Started uploading asset\n",
      "INFO:adobe.pdfservices.operation.internal.pdf_services_helper:Started uploading asset\n",
      "INFO:adobe.pdfservices.operation.internal.pdf_services_helper:Started uploading asset\n"
     ]
    },
    {
     "name": "stdout",
     "output_type": "stream",
     "text": [
      "Collecting PDF: data/ocr-20240814041307.pdf\n"
     ]
    },
    {
     "name": "stderr",
     "output_type": "stream",
     "text": [
      "INFO:adobe.pdfservices.operation.internal.pdf_services_helper:Finished uploading asset\n",
      "INFO:adobe.pdfservices.operation.internal.pdf_services_helper:Finished uploading asset\n",
      "INFO:adobe.pdfservices.operation.internal.pdf_services_helper:Finished uploading asset\n",
      "INFO:adobe.pdfservices.operation.internal.pdf_services_helper:Finished uploading asset\n",
      "INFO:adobe.pdfservices.operation.internal.pdf_services_helper:Finished uploading asset\n",
      "INFO:adobe.pdfservices.operation.internal.pdf_services_helper:Finished uploading asset\n",
      "INFO:adobe.pdfservices.operation.internal.pdf_services_helper:Started uploading asset\n",
      "INFO:adobe.pdfservices.operation.internal.pdf_services_helper:Started uploading asset\n",
      "INFO:adobe.pdfservices.operation.internal.pdf_services_helper:Started uploading asset\n",
      "INFO:adobe.pdfservices.operation.internal.pdf_services_helper:Started uploading asset\n",
      "INFO:adobe.pdfservices.operation.internal.pdf_services_helper:Started uploading asset\n",
      "INFO:adobe.pdfservices.operation.internal.pdf_services_helper:Started uploading asset\n",
      "INFO:adobe.pdfservices.operation.internal.pdf_services_helper:Started uploading asset\n"
     ]
    },
    {
     "name": "stdout",
     "output_type": "stream",
     "text": [
      "Collecting PDF: data/ocr-20240814041409.pdf\n"
     ]
    },
    {
     "name": "stderr",
     "output_type": "stream",
     "text": [
      "INFO:adobe.pdfservices.operation.internal.pdf_services_helper:Finished uploading asset\n",
      "INFO:adobe.pdfservices.operation.internal.pdf_services_helper:Finished uploading asset\n",
      "INFO:adobe.pdfservices.operation.internal.pdf_services_helper:Finished uploading asset\n",
      "INFO:adobe.pdfservices.operation.internal.pdf_services_helper:Finished uploading asset\n",
      "INFO:adobe.pdfservices.operation.internal.pdf_services_helper:Finished uploading asset\n",
      "INFO:adobe.pdfservices.operation.internal.pdf_services_helper:Finished uploading asset\n",
      "INFO:adobe.pdfservices.operation.internal.pdf_services_helper:Finished uploading asset\n",
      "INFO:adobe.pdfservices.operation.internal.pdf_services_helper:Started uploading asset\n",
      "INFO:adobe.pdfservices.operation.internal.pdf_services_helper:Started uploading asset\n",
      "INFO:adobe.pdfservices.operation.internal.pdf_services_helper:Started uploading asset\n",
      "INFO:adobe.pdfservices.operation.internal.pdf_services_helper:Started uploading asset\n",
      "INFO:adobe.pdfservices.operation.internal.pdf_services_helper:Started uploading asset\n",
      "INFO:adobe.pdfservices.operation.internal.pdf_services_helper:Started uploading asset\n",
      "INFO:adobe.pdfservices.operation.internal.pdf_services_helper:Started uploading asset\n",
      "INFO:adobe.pdfservices.operation.internal.pdf_services_helper:Started uploading asset\n"
     ]
    },
    {
     "name": "stdout",
     "output_type": "stream",
     "text": [
      "Collecting PDF: data/ocr-20240814041510.pdf\n"
     ]
    },
    {
     "name": "stderr",
     "output_type": "stream",
     "text": [
      "INFO:adobe.pdfservices.operation.internal.pdf_services_helper:Finished uploading asset\n",
      "INFO:adobe.pdfservices.operation.internal.pdf_services_helper:Finished uploading asset\n",
      "INFO:adobe.pdfservices.operation.internal.pdf_services_helper:Finished uploading asset\n",
      "INFO:adobe.pdfservices.operation.internal.pdf_services_helper:Finished uploading asset\n",
      "INFO:adobe.pdfservices.operation.internal.pdf_services_helper:Finished uploading asset\n",
      "INFO:adobe.pdfservices.operation.internal.pdf_services_helper:Finished uploading asset\n",
      "INFO:adobe.pdfservices.operation.internal.pdf_services_helper:Finished uploading asset\n",
      "INFO:adobe.pdfservices.operation.internal.pdf_services_helper:Finished uploading asset\n",
      "INFO:adobe.pdfservices.operation.internal.pdf_services_helper:Started uploading asset\n",
      "INFO:adobe.pdfservices.operation.internal.pdf_services_helper:Started uploading asset\n",
      "INFO:adobe.pdfservices.operation.internal.pdf_services_helper:Started uploading asset\n",
      "INFO:adobe.pdfservices.operation.internal.pdf_services_helper:Started uploading asset\n",
      "INFO:adobe.pdfservices.operation.internal.pdf_services_helper:Started uploading asset\n",
      "INFO:adobe.pdfservices.operation.internal.pdf_services_helper:Started uploading asset\n",
      "INFO:adobe.pdfservices.operation.internal.pdf_services_helper:Started uploading asset\n",
      "INFO:adobe.pdfservices.operation.internal.pdf_services_helper:Started uploading asset\n",
      "INFO:adobe.pdfservices.operation.internal.pdf_services_helper:Started uploading asset\n"
     ]
    },
    {
     "name": "stdout",
     "output_type": "stream",
     "text": [
      "Collecting PDF: data/ocr-20240814041606.pdf\n"
     ]
    },
    {
     "name": "stderr",
     "output_type": "stream",
     "text": [
      "INFO:adobe.pdfservices.operation.internal.pdf_services_helper:Finished uploading asset\n",
      "INFO:adobe.pdfservices.operation.internal.pdf_services_helper:Finished uploading asset\n",
      "INFO:adobe.pdfservices.operation.internal.pdf_services_helper:Finished uploading asset\n",
      "INFO:adobe.pdfservices.operation.internal.pdf_services_helper:Finished uploading asset\n",
      "INFO:adobe.pdfservices.operation.internal.pdf_services_helper:Finished uploading asset\n",
      "INFO:adobe.pdfservices.operation.internal.pdf_services_helper:Finished uploading asset\n",
      "INFO:adobe.pdfservices.operation.internal.pdf_services_helper:Finished uploading asset\n",
      "INFO:adobe.pdfservices.operation.internal.pdf_services_helper:Finished uploading asset\n",
      "INFO:adobe.pdfservices.operation.internal.pdf_services_helper:Finished uploading asset\n",
      "INFO:adobe.pdfservices.operation.internal.pdf_services_helper:Started uploading asset\n",
      "INFO:adobe.pdfservices.operation.internal.pdf_services_helper:Started uploading asset\n",
      "INFO:adobe.pdfservices.operation.internal.pdf_services_helper:Started uploading asset\n",
      "INFO:adobe.pdfservices.operation.internal.pdf_services_helper:Started uploading asset\n",
      "INFO:adobe.pdfservices.operation.internal.pdf_services_helper:Started uploading asset\n",
      "INFO:adobe.pdfservices.operation.internal.pdf_services_helper:Started uploading asset\n",
      "INFO:adobe.pdfservices.operation.internal.pdf_services_helper:Started uploading asset\n",
      "INFO:adobe.pdfservices.operation.internal.pdf_services_helper:Started uploading asset\n",
      "INFO:adobe.pdfservices.operation.internal.pdf_services_helper:Started uploading asset\n",
      "INFO:adobe.pdfservices.operation.internal.pdf_services_helper:Started uploading asset\n"
     ]
    },
    {
     "name": "stdout",
     "output_type": "stream",
     "text": [
      "Collecting PDF: data/ocr-20240814041713.pdf\n"
     ]
    },
    {
     "name": "stderr",
     "output_type": "stream",
     "text": [
      "INFO:adobe.pdfservices.operation.internal.pdf_services_helper:Finished uploading asset\n",
      "INFO:adobe.pdfservices.operation.internal.pdf_services_helper:Finished uploading asset\n",
      "INFO:adobe.pdfservices.operation.internal.pdf_services_helper:Finished uploading asset\n",
      "INFO:adobe.pdfservices.operation.internal.pdf_services_helper:Finished uploading asset\n",
      "INFO:adobe.pdfservices.operation.internal.pdf_services_helper:Finished uploading asset\n",
      "INFO:adobe.pdfservices.operation.internal.pdf_services_helper:Finished uploading asset\n",
      "INFO:adobe.pdfservices.operation.internal.pdf_services_helper:Finished uploading asset\n",
      "INFO:adobe.pdfservices.operation.internal.pdf_services_helper:Finished uploading asset\n",
      "INFO:adobe.pdfservices.operation.internal.pdf_services_helper:Finished uploading asset\n",
      "INFO:adobe.pdfservices.operation.internal.pdf_services_helper:Finished uploading asset\n",
      "INFO:adobe.pdfservices.operation.internal.pdf_services_helper:Started uploading asset\n",
      "INFO:adobe.pdfservices.operation.internal.pdf_services_helper:Started uploading asset\n",
      "INFO:adobe.pdfservices.operation.internal.pdf_services_helper:Started uploading asset\n",
      "INFO:adobe.pdfservices.operation.internal.pdf_services_helper:Started uploading asset\n",
      "INFO:adobe.pdfservices.operation.internal.pdf_services_helper:Started uploading asset\n",
      "INFO:adobe.pdfservices.operation.internal.pdf_services_helper:Started uploading asset\n",
      "INFO:adobe.pdfservices.operation.internal.pdf_services_helper:Started uploading asset\n",
      "INFO:adobe.pdfservices.operation.internal.pdf_services_helper:Started uploading asset\n",
      "INFO:adobe.pdfservices.operation.internal.pdf_services_helper:Started uploading asset\n",
      "INFO:adobe.pdfservices.operation.internal.pdf_services_helper:Started uploading asset\n",
      "INFO:adobe.pdfservices.operation.internal.pdf_services_helper:Started uploading asset\n"
     ]
    },
    {
     "name": "stdout",
     "output_type": "stream",
     "text": [
      "Collecting PDF: data/ocr-20240814041817.pdf\n"
     ]
    },
    {
     "name": "stderr",
     "output_type": "stream",
     "text": [
      "INFO:adobe.pdfservices.operation.internal.pdf_services_helper:Finished uploading asset\n",
      "INFO:adobe.pdfservices.operation.internal.pdf_services_helper:Finished uploading asset\n",
      "INFO:adobe.pdfservices.operation.internal.pdf_services_helper:Finished uploading asset\n",
      "INFO:adobe.pdfservices.operation.internal.pdf_services_helper:Finished uploading asset\n",
      "INFO:adobe.pdfservices.operation.internal.pdf_services_helper:Finished uploading asset\n",
      "INFO:adobe.pdfservices.operation.internal.pdf_services_helper:Finished uploading asset\n",
      "INFO:adobe.pdfservices.operation.internal.pdf_services_helper:Finished uploading asset\n",
      "INFO:adobe.pdfservices.operation.internal.pdf_services_helper:Finished uploading asset\n",
      "INFO:adobe.pdfservices.operation.internal.pdf_services_helper:Finished uploading asset\n",
      "INFO:adobe.pdfservices.operation.internal.pdf_services_helper:Finished uploading asset\n",
      "INFO:adobe.pdfservices.operation.internal.pdf_services_helper:Finished uploading asset\n",
      "INFO:adobe.pdfservices.operation.internal.pdf_services_helper:Started uploading asset\n",
      "INFO:adobe.pdfservices.operation.internal.pdf_services_helper:Started uploading asset\n",
      "INFO:adobe.pdfservices.operation.internal.pdf_services_helper:Started uploading asset\n",
      "INFO:adobe.pdfservices.operation.internal.pdf_services_helper:Started uploading asset\n",
      "INFO:adobe.pdfservices.operation.internal.pdf_services_helper:Started uploading asset\n",
      "INFO:adobe.pdfservices.operation.internal.pdf_services_helper:Started uploading asset\n",
      "INFO:adobe.pdfservices.operation.internal.pdf_services_helper:Started uploading asset\n",
      "INFO:adobe.pdfservices.operation.internal.pdf_services_helper:Started uploading asset\n",
      "INFO:adobe.pdfservices.operation.internal.pdf_services_helper:Started uploading asset\n",
      "INFO:adobe.pdfservices.operation.internal.pdf_services_helper:Started uploading asset\n",
      "INFO:adobe.pdfservices.operation.internal.pdf_services_helper:Started uploading asset\n"
     ]
    },
    {
     "name": "stdout",
     "output_type": "stream",
     "text": [
      "Collecting PDF: data/ocr-20240814041919.pdf\n"
     ]
    },
    {
     "name": "stderr",
     "output_type": "stream",
     "text": [
      "INFO:adobe.pdfservices.operation.internal.pdf_services_helper:Finished uploading asset\n",
      "INFO:adobe.pdfservices.operation.internal.pdf_services_helper:Started uploading asset\n",
      "INFO:adobe.pdfservices.operation.internal.pdf_services_helper:Finished uploading asset\n",
      "INFO:adobe.pdfservices.operation.internal.pdf_services_helper:Finished uploading asset\n",
      "INFO:adobe.pdfservices.operation.internal.pdf_services_helper:Finished uploading asset\n",
      "INFO:adobe.pdfservices.operation.internal.pdf_services_helper:Finished uploading asset\n",
      "INFO:adobe.pdfservices.operation.internal.pdf_services_helper:Finished uploading asset\n",
      "INFO:adobe.pdfservices.operation.internal.pdf_services_helper:Finished uploading asset\n",
      "INFO:adobe.pdfservices.operation.internal.pdf_services_helper:Finished uploading asset\n",
      "INFO:adobe.pdfservices.operation.internal.pdf_services_helper:Finished uploading asset\n",
      "INFO:adobe.pdfservices.operation.internal.pdf_services_helper:Finished uploading asset\n",
      "INFO:adobe.pdfservices.operation.internal.pdf_services_helper:Finished uploading asset\n",
      "INFO:adobe.pdfservices.operation.internal.pdf_services_helper:Finished uploading asset\n",
      "INFO:adobe.pdfservices.operation.internal.pdf_services_helper:Started uploading asset\n",
      "INFO:adobe.pdfservices.operation.internal.pdf_services_helper:Started uploading asset\n",
      "INFO:adobe.pdfservices.operation.internal.pdf_services_helper:Started uploading asset\n",
      "INFO:adobe.pdfservices.operation.internal.pdf_services_helper:Started uploading asset\n",
      "INFO:adobe.pdfservices.operation.internal.pdf_services_helper:Started uploading asset\n",
      "INFO:adobe.pdfservices.operation.internal.pdf_services_helper:Started uploading asset\n",
      "INFO:adobe.pdfservices.operation.internal.pdf_services_helper:Started uploading asset\n",
      "INFO:adobe.pdfservices.operation.internal.pdf_services_helper:Started uploading asset\n",
      "INFO:adobe.pdfservices.operation.internal.pdf_services_helper:Started uploading asset\n",
      "INFO:adobe.pdfservices.operation.internal.pdf_services_helper:Started uploading asset\n",
      "INFO:adobe.pdfservices.operation.internal.pdf_services_helper:Started uploading asset\n"
     ]
    },
    {
     "name": "stdout",
     "output_type": "stream",
     "text": [
      "Collecting PDF: data/ocr-20240814042018.pdf\n"
     ]
    },
    {
     "name": "stderr",
     "output_type": "stream",
     "text": [
      "INFO:adobe.pdfservices.operation.internal.pdf_services_helper:Finished uploading asset\n",
      "INFO:adobe.pdfservices.operation.internal.pdf_services_helper:Started uploading asset\n",
      "INFO:adobe.pdfservices.operation.internal.pdf_services_helper:Finished uploading asset\n",
      "INFO:adobe.pdfservices.operation.internal.pdf_services_helper:Started uploading asset\n",
      "INFO:adobe.pdfservices.operation.internal.pdf_services_helper:Finished uploading asset\n",
      "INFO:adobe.pdfservices.operation.internal.pdf_services_helper:Finished uploading asset\n",
      "INFO:adobe.pdfservices.operation.internal.pdf_services_helper:Finished uploading asset\n",
      "INFO:adobe.pdfservices.operation.internal.pdf_services_helper:Finished uploading asset\n",
      "INFO:adobe.pdfservices.operation.internal.pdf_services_helper:Finished uploading asset\n",
      "INFO:adobe.pdfservices.operation.internal.pdf_services_helper:Finished uploading asset\n",
      "INFO:adobe.pdfservices.operation.internal.pdf_services_helper:Finished uploading asset\n",
      "INFO:adobe.pdfservices.operation.internal.pdf_services_helper:Finished uploading asset\n",
      "INFO:adobe.pdfservices.operation.internal.pdf_services_helper:Finished uploading asset\n",
      "INFO:adobe.pdfservices.operation.internal.pdf_services_helper:Finished uploading asset\n",
      "INFO:adobe.pdfservices.operation.internal.pdf_services_helper:Finished uploading asset\n",
      "INFO:adobe.pdfservices.operation.internal.pdf_services_helper:Started uploading asset\n",
      "INFO:adobe.pdfservices.operation.internal.pdf_services_helper:Started uploading asset\n",
      "INFO:adobe.pdfservices.operation.internal.pdf_services_helper:Started uploading asset\n",
      "INFO:adobe.pdfservices.operation.internal.pdf_services_helper:Started uploading asset\n",
      "INFO:adobe.pdfservices.operation.internal.pdf_services_helper:Started uploading asset\n",
      "INFO:adobe.pdfservices.operation.internal.pdf_services_helper:Started uploading asset\n",
      "INFO:adobe.pdfservices.operation.internal.pdf_services_helper:Started uploading asset\n",
      "INFO:adobe.pdfservices.operation.internal.pdf_services_helper:Started uploading asset\n",
      "INFO:adobe.pdfservices.operation.internal.pdf_services_helper:Started uploading asset\n",
      "INFO:adobe.pdfservices.operation.internal.pdf_services_helper:Started uploading asset\n",
      "INFO:adobe.pdfservices.operation.internal.pdf_services_helper:Started uploading asset\n"
     ]
    },
    {
     "name": "stdout",
     "output_type": "stream",
     "text": [
      "Collecting PDF: data/ocr-20240814042116.pdf\n"
     ]
    },
    {
     "name": "stderr",
     "output_type": "stream",
     "text": [
      "INFO:adobe.pdfservices.operation.internal.pdf_services_helper:Finished uploading asset\n",
      "INFO:adobe.pdfservices.operation.internal.pdf_services_helper:Started uploading asset\n",
      "INFO:adobe.pdfservices.operation.internal.pdf_services_helper:Finished uploading asset\n",
      "INFO:adobe.pdfservices.operation.internal.pdf_services_helper:Started uploading asset\n",
      "INFO:adobe.pdfservices.operation.internal.pdf_services_helper:Finished uploading asset\n",
      "INFO:adobe.pdfservices.operation.internal.pdf_services_helper:Started uploading asset\n",
      "INFO:adobe.pdfservices.operation.internal.pdf_services_helper:Finished uploading asset\n",
      "INFO:adobe.pdfservices.operation.internal.pdf_services_helper:Finished uploading asset\n",
      "INFO:adobe.pdfservices.operation.internal.pdf_services_helper:Finished uploading asset\n",
      "INFO:adobe.pdfservices.operation.internal.pdf_services_helper:Finished uploading asset\n",
      "INFO:adobe.pdfservices.operation.internal.pdf_services_helper:Finished uploading asset\n",
      "INFO:adobe.pdfservices.operation.internal.pdf_services_helper:Finished uploading asset\n",
      "INFO:adobe.pdfservices.operation.internal.pdf_services_helper:Finished uploading asset\n",
      "INFO:adobe.pdfservices.operation.internal.pdf_services_helper:Finished uploading asset\n",
      "INFO:adobe.pdfservices.operation.internal.pdf_services_helper:Finished uploading asset\n",
      "INFO:adobe.pdfservices.operation.internal.pdf_services_helper:Finished uploading asset\n",
      "INFO:adobe.pdfservices.operation.internal.pdf_services_helper:Finished uploading asset\n",
      "INFO:adobe.pdfservices.operation.internal.pdf_services_helper:Started uploading asset\n",
      "INFO:adobe.pdfservices.operation.internal.pdf_services_helper:Started uploading asset\n",
      "INFO:adobe.pdfservices.operation.internal.pdf_services_helper:Started uploading asset\n",
      "INFO:adobe.pdfservices.operation.internal.pdf_services_helper:Started uploading asset\n",
      "INFO:adobe.pdfservices.operation.internal.pdf_services_helper:Started uploading asset\n",
      "INFO:adobe.pdfservices.operation.internal.pdf_services_helper:Started uploading asset\n",
      "INFO:adobe.pdfservices.operation.internal.pdf_services_helper:Started uploading asset\n",
      "INFO:adobe.pdfservices.operation.internal.pdf_services_helper:Started uploading asset\n",
      "INFO:adobe.pdfservices.operation.internal.pdf_services_helper:Started uploading asset\n",
      "INFO:adobe.pdfservices.operation.internal.pdf_services_helper:Started uploading asset\n",
      "INFO:adobe.pdfservices.operation.internal.pdf_services_helper:Started uploading asset\n"
     ]
    },
    {
     "name": "stdout",
     "output_type": "stream",
     "text": [
      "Collecting PDF: data/ocr-20240814042142.pdf\n"
     ]
    },
    {
     "name": "stderr",
     "output_type": "stream",
     "text": [
      "INFO:adobe.pdfservices.operation.internal.pdf_services_helper:Finished uploading asset\n",
      "INFO:adobe.pdfservices.operation.internal.pdf_services_helper:Started uploading asset\n",
      "INFO:adobe.pdfservices.operation.internal.pdf_services_helper:Finished uploading asset\n",
      "INFO:adobe.pdfservices.operation.internal.pdf_services_helper:Started uploading asset\n",
      "INFO:adobe.pdfservices.operation.internal.pdf_services_helper:Finished uploading asset\n",
      "INFO:adobe.pdfservices.operation.internal.pdf_services_helper:Started uploading asset\n",
      "INFO:adobe.pdfservices.operation.internal.pdf_services_helper:Finished uploading asset\n",
      "INFO:adobe.pdfservices.operation.internal.pdf_services_helper:Started uploading asset\n",
      "INFO:adobe.pdfservices.operation.internal.pdf_services_helper:Finished uploading asset\n",
      "INFO:adobe.pdfservices.operation.internal.pdf_services_helper:Finished uploading asset\n",
      "INFO:adobe.pdfservices.operation.internal.pdf_services_helper:Finished uploading asset\n",
      "INFO:adobe.pdfservices.operation.internal.pdf_services_helper:Finished uploading asset\n",
      "INFO:adobe.pdfservices.operation.internal.pdf_services_helper:Finished uploading asset\n",
      "INFO:adobe.pdfservices.operation.internal.pdf_services_helper:Finished uploading asset\n",
      "INFO:adobe.pdfservices.operation.internal.pdf_services_helper:Finished uploading asset\n",
      "INFO:adobe.pdfservices.operation.internal.pdf_services_helper:Finished uploading asset\n",
      "INFO:adobe.pdfservices.operation.internal.pdf_services_helper:Finished uploading asset\n",
      "INFO:adobe.pdfservices.operation.internal.pdf_services_helper:Finished uploading asset\n",
      "INFO:adobe.pdfservices.operation.internal.pdf_services_helper:Finished uploading asset\n",
      "INFO:adobe.pdfservices.operation.internal.pdf_services_helper:Started submitting COMBINE_PDF job\n",
      "ERROR:root:Exception encountered while executing operation: description =Total size of input asset/assets exceeds permitted size : 104000000 bytes; requestTrackingId=919df28b-59c7-11ef-8507-8c8caaeca1cb; statusCode=400; errorCode=INPUT_TOO_LARGE\n",
      "Traceback (most recent call last):\n",
      "  File \"c:\\Users\\Vijaya Nandini\\Documents\\2024_adobe_pdf_apis\\adobe-api-pdf-services-poc\\src\\combine_pdf.py\", line 69, in combine_pdf\n",
      "    # Submit the job and gets the job result\n",
      "               ^^^^^^^^^^^^^^^^^^^^^^^^^^^^^^\n",
      "  File \"c:\\Users\\Vijaya Nandini\\Documents\\2024_adobe_pdf_apis\\adobe-api-pdf-services-poc\\.venv\\Lib\\site-packages\\adobe\\pdfservices\\operation\\internal\\util\\enforce_types.py\", line 37, in wrapper\n",
      "    return func(*args, **kwargs)\n",
      "           ^^^^^^^^^^^^^^^^^^^^^\n",
      "  File \"c:\\Users\\Vijaya Nandini\\Documents\\2024_adobe_pdf_apis\\adobe-api-pdf-services-poc\\.venv\\Lib\\site-packages\\adobe\\pdfservices\\operation\\pdf_services.py\", line 76, in submit\n",
      "    return pdf_services_job._process(self.__executionContext, notify_config_list)\n",
      "           ^^^^^^^^^^^^^^^^^^^^^^^^^^^^^^^^^^^^^^^^^^^^^^^^^^^^^^^^^^^^^^^^^^^^^^\n",
      "  File \"c:\\Users\\Vijaya Nandini\\Documents\\2024_adobe_pdf_apis\\adobe-api-pdf-services-poc\\.venv\\Lib\\site-packages\\adobe\\pdfservices\\operation\\pdfjobs\\jobs\\combine_pdf_job.py\", line 90, in _process\n",
      "    response = PDFServicesHelper.submit_job(execution_context,\n",
      "               ^^^^^^^^^^^^^^^^^^^^^^^^^^^^^^^^^^^^^^^^^^^^^^^\n",
      "  File \"c:\\Users\\Vijaya Nandini\\Documents\\2024_adobe_pdf_apis\\adobe-api-pdf-services-poc\\.venv\\Lib\\site-packages\\adobe\\pdfservices\\operation\\internal\\pdf_services_helper.py\", line 130, in submit_job\n",
      "    return PDFServicesAPI.submit_job(context, platform_api_request, operation_endpoint, x_request_id,\n",
      "           ^^^^^^^^^^^^^^^^^^^^^^^^^^^^^^^^^^^^^^^^^^^^^^^^^^^^^^^^^^^^^^^^^^^^^^^^^^^^^^^^^^^^^^^^^^\n",
      "  File \"c:\\Users\\Vijaya Nandini\\Documents\\2024_adobe_pdf_apis\\adobe-api-pdf-services-poc\\.venv\\Lib\\site-packages\\adobe\\pdfservices\\operation\\internal\\api\\pdf_services_api.py\", line 54, in submit_job\n",
      "    response = http_client.process_request(http_request=http_request,\n",
      "               ^^^^^^^^^^^^^^^^^^^^^^^^^^^^^^^^^^^^^^^^^^^^^^^^^^^^^^\n",
      "  File \"c:\\Users\\Vijaya Nandini\\Documents\\2024_adobe_pdf_apis\\adobe-api-pdf-services-poc\\.venv\\Lib\\site-packages\\adobe\\pdfservices\\operation\\internal\\http\\http_client.py\", line 40, in process_request\n",
      "    if _handle_response_and_retry(response, success_status_codes,\n",
      "       ^^^^^^^^^^^^^^^^^^^^^^^^^^^^^^^^^^^^^^^^^^^^^^^^^^^^^^^^^^\n",
      "  File \"c:\\Users\\Vijaya Nandini\\Documents\\2024_adobe_pdf_apis\\adobe-api-pdf-services-poc\\.venv\\Lib\\site-packages\\adobe\\pdfservices\\operation\\internal\\http\\http_client.py\", line 111, in _handle_response_and_retry\n",
      "    should_retry = ResponseUtil.handle_api_failures(response, request_key, is_ims_api)\n",
      "                   ^^^^^^^^^^^^^^^^^^^^^^^^^^^^^^^^^^^^^^^^^^^^^^^^^^^^^^^^^^^^^^^^^^^\n",
      "  File \"c:\\Users\\Vijaya Nandini\\Documents\\2024_adobe_pdf_apis\\adobe-api-pdf-services-poc\\.venv\\Lib\\site-packages\\adobe\\pdfservices\\operation\\internal\\http\\response_util.py\", line 77, in handle_api_failures\n",
      "    return ResponseUtil.handle_service_api_error_response(response)\n",
      "           ^^^^^^^^^^^^^^^^^^^^^^^^^^^^^^^^^^^^^^^^^^^^^^^^^^^^^^^^\n",
      "  File \"c:\\Users\\Vijaya Nandini\\Documents\\2024_adobe_pdf_apis\\adobe-api-pdf-services-poc\\.venv\\Lib\\site-packages\\adobe\\pdfservices\\operation\\internal\\http\\response_util.py\", line 123, in handle_service_api_error_response\n",
      "    raise ServiceApiException(message=message,\n",
      "adobe.pdfservices.operation.exception.exceptions.ServiceApiException: description =Total size of input asset/assets exceeds permitted size : 104000000 bytes; requestTrackingId=919df28b-59c7-11ef-8507-8c8caaeca1cb; statusCode=400; errorCode=INPUT_TOO_LARGE\n"
     ]
    }
   ],
   "source": [
    "combine_pdf(*pdf_inputs)"
   ]
  },
  {
   "cell_type": "code",
   "execution_count": null,
   "metadata": {},
   "outputs": [],
   "source": []
  }
 ],
 "metadata": {
  "kernelspec": {
   "display_name": ".venv",
   "language": "python",
   "name": "python3"
  },
  "language_info": {
   "codemirror_mode": {
    "name": "ipython",
    "version": 3
   },
   "file_extension": ".py",
   "mimetype": "text/x-python",
   "name": "python",
   "nbconvert_exporter": "python",
   "pygments_lexer": "ipython3",
   "version": "3.11.9"
  }
 },
 "nbformat": 4,
 "nbformat_minor": 2
}
